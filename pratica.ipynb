{
 "cells": [
  {
   "cell_type": "code",
   "execution_count": 1,
   "id": "9a47c8cc-fefb-4fea-8be7-deb3f914b793",
   "metadata": {},
   "outputs": [],
   "source": [
    "from sqlalchemy import create_engine\n",
    "import dotenv\n",
    "import os\n",
    "import pandas as pd\n",
    "dotenv.load_dotenv(override=True)\n",
    "username = os.getenv('username')\n",
    "password = os.getenv('password')\n",
    "host = os.getenv('host')\n",
    "dbname = os.getenv('dbname')\n",
    "\n",
    "import pandas as pd\n",
    "dbname = \"AdventureWorksDW\"\n",
    "conn_string = f\"mysql+pymysql://{username}:{password}@{host}/{dbname}\"\n",
    "db_engine = create_engine(conn_string)\n",
    "query = \"\"\"SELECT *\n",
    "        FROM dimproduct\n",
    "        \"\"\"\n",
    "df = pd.read_sql(query, db_engine)"
   ]
  },
  {
   "cell_type": "code",
   "execution_count": 2,
   "id": "0c03c40b-e30d-46bd-ac6d-d794399bff2a",
   "metadata": {},
   "outputs": [
    {
     "data": {
      "text/plain": [
       "Index(['ProductKey', 'ProductAlternateKey', 'ProductSubcategoryKey',\n",
       "       'WeightUnitMeasureCode', 'SizeUnitMeasureCode', 'EnglishProductName',\n",
       "       'SpanishProductName', 'FrenchProductName', 'StandardCost',\n",
       "       'FinishedGoodsFlag', 'Color', 'SafetyStockLevel', 'ReorderPoint',\n",
       "       'ListPrice', 'Size', 'SizeRange', 'Weight', 'DaysToManufacture',\n",
       "       'ProductLine', 'DealerPrice', 'Class', 'Style', 'ModelName',\n",
       "       'LargePhoto', 'EnglishDescription', 'FrenchDescription',\n",
       "       'ChineseDescription', 'ArabicDescription', 'HebrewDescription',\n",
       "       'ThaiDescription', 'GermanDescription', 'JapaneseDescription',\n",
       "       'TurkishDescription', 'StartDate', 'EndDate', 'Status'],\n",
       "      dtype='object')"
      ]
     },
     "execution_count": 2,
     "metadata": {},
     "output_type": "execute_result"
    }
   ],
   "source": [
    "df.columns"
   ]
  },
  {
   "cell_type": "code",
   "execution_count": 3,
   "id": "81eee8ba-85aa-4574-8273-dd180a6d8a0d",
   "metadata": {},
   "outputs": [
    {
     "data": {
      "text/plain": [
       "0         NaN\n",
       "1         NaN\n",
       "2         NaN\n",
       "3         NaN\n",
       "4         NaN\n",
       "        ...  \n",
       "601     60.74\n",
       "602     72.89\n",
       "603    323.99\n",
       "604    323.99\n",
       "605    323.99\n",
       "Name: DealerPrice, Length: 606, dtype: float64"
      ]
     },
     "execution_count": 3,
     "metadata": {},
     "output_type": "execute_result"
    }
   ],
   "source": [
    "df['DealerPrice'].round(2)"
   ]
  },
  {
   "cell_type": "code",
   "execution_count": 4,
   "id": "897d8b89-5c02-430e-b357-20e37916fc65",
   "metadata": {},
   "outputs": [
    {
     "data": {
      "text/plain": [
       "0        NaN\n",
       "1        NaN\n",
       "2        NaN\n",
       "3        NaN\n",
       "4        NaN\n",
       "       ...  \n",
       "601     61.0\n",
       "602     73.0\n",
       "603    324.0\n",
       "604    324.0\n",
       "605    324.0\n",
       "Name: DealerPrice, Length: 606, dtype: float64"
      ]
     },
     "execution_count": 4,
     "metadata": {},
     "output_type": "execute_result"
    }
   ],
   "source": [
    "df['DealerPrice'].round()"
   ]
  },
  {
   "cell_type": "code",
   "execution_count": 5,
   "id": "eb224064-0c76-4d0f-bd6b-d0067becc7f5",
   "metadata": {},
   "outputs": [
    {
     "data": {
      "text/plain": [
       "<bound method NDFrame.head of 0          NaN\n",
       "1          NaN\n",
       "2          NaN\n",
       "3          NaN\n",
       "4          NaN\n",
       "        ...   \n",
       "601     60.744\n",
       "602     72.894\n",
       "603    323.994\n",
       "604    323.994\n",
       "605    323.994\n",
       "Name: DealerPrice, Length: 606, dtype: float64>"
      ]
     },
     "execution_count": 5,
     "metadata": {},
     "output_type": "execute_result"
    }
   ],
   "source": [
    "df['DealerPrice'].clip(0, 1000).head"
   ]
  },
  {
   "cell_type": "code",
   "execution_count": 6,
   "id": "a234aba5-2343-4a40-b7f0-94ec9e61e823",
   "metadata": {},
   "outputs": [],
   "source": [
    "#dataframe sintetico\n",
    "import pandas as pd\n",
    "import numpy as np\n",
    "years = 5\n",
    "a = pd.DataFrame({\n",
    "    \"Mese\": list(\"GFMAMGLASOND\" * years),\n",
    "    \"Anno\": np.repeat(list(range(years)), 12),\n",
    "    \"Guadagni\": np.random.randint(800, 5000, 12 * years)\n",
    "})"
   ]
  },
  {
   "cell_type": "code",
   "execution_count": 7,
   "id": "fc88788d-c8c0-4259-98cf-1e1e1dab8070",
   "metadata": {},
   "outputs": [
    {
     "name": "stdout",
     "output_type": "stream",
     "text": [
      "  Mese  Anno  Guadagni  Vendite_cumulative\n",
      "0    G     0      1936                1936\n",
      "1    F     0      1467                1467\n",
      "2    M     0      1910                1910\n",
      "3    A     0      1362                1362\n",
      "4    M     0      3518                5428\n"
     ]
    }
   ],
   "source": [
    "# Calcola la somma cumulativa delle vendite per ogni mese\n",
    "a['Vendite_cumulative'] = a.groupby('Mese')['Guadagni'].cumsum()\n",
    "print(a.head(5))"
   ]
  },
  {
   "cell_type": "code",
   "execution_count": 8,
   "id": "a4c04716-09d2-4bab-8614-f8349a59e92f",
   "metadata": {},
   "outputs": [
    {
     "name": "stdout",
     "output_type": "stream",
     "text": [
      "  Mese  Anno  Guadagni  Vendite_cumulative  Vendite_cumulative_annuali\n",
      "0    G     0      1936                1936                        1936\n",
      "1    F     0      1467                1467                        3403\n",
      "2    M     0      1910                1910                        5313\n",
      "3    A     0      1362                1362                        6675\n",
      "4    M     0      3518                5428                       10193\n"
     ]
    }
   ],
   "source": [
    "# Calcola la somma cumulativa delle vendite per ogni anno\n",
    "a['Vendite_cumulative_annuali'] = a.groupby('Anno')['Guadagni'].cumsum()\n",
    "\n",
    "print(a.head(5))"
   ]
  },
  {
   "cell_type": "code",
   "execution_count": 9,
   "id": "cb1caeb0-179c-4238-84bc-15815c3356fb",
   "metadata": {},
   "outputs": [],
   "source": [
    "from sqlalchemy import create_engine\n",
    "import dotenv\n",
    "import os\n",
    "import pandas as pd\n",
    "dotenv.load_dotenv(override=True)\n",
    "username = os.getenv('username')\n",
    "password = os.getenv('password')\n",
    "host = os.getenv('host')\n",
    "dbname = os.getenv('dbname')\n",
    "\n",
    "import pandas as pd\n",
    "dbname = \"AdventureWorksDW\"\n",
    "conn_string = f\"mysql+pymysql://{username}:{password}@{host}/{dbname}\"\n",
    "db_engine = create_engine(conn_string)\n",
    "query = \"\"\"SELECT *\n",
    "        FROM dimcustomer\n",
    "        \"\"\"\n",
    "dimcustomer = pd.read_sql(query, db_engine)"
   ]
  },
  {
   "cell_type": "code",
   "execution_count": 10,
   "id": "07822ddc-96d2-4d32-b402-e14e46c2d549",
   "metadata": {},
   "outputs": [
    {
     "name": "stdout",
     "output_type": "stream",
     "text": [
      "   CustomerKey  GeographyKey CustomerAlternateKey Title  FirstName MiddleName  \\\n",
      "0        11000            26           AW00011000  None        jon          v   \n",
      "1        11001            37           AW00011001  None     eugene          l   \n",
      "2        11002            31           AW00011002  None      ruben       None   \n",
      "3        11003            11           AW00011003  None    christy       None   \n",
      "4        11004            19           AW00011004  None  elizabeth       None   \n",
      "\n",
      "  LastName  NameStyle   BirthDate MaritalStatus  ... EnglishOccupation  \\\n",
      "0     Yang          0  1971-10-06             M  ...      Professional   \n",
      "1    Huang          0  1976-05-10             S  ...      Professional   \n",
      "2   Torres          0  1971-02-09             M  ...      Professional   \n",
      "3      Zhu          0  1973-08-14             S  ...      Professional   \n",
      "4  Johnson          0  1979-08-05             S  ...      Professional   \n",
      "\n",
      "  SpanishOccupation FrenchOccupation  HouseOwnerFlag  NumberCarsOwned  \\\n",
      "0       Profesional            Cadre               1                0   \n",
      "1       Profesional            Cadre               0                1   \n",
      "2       Profesional            Cadre               1                1   \n",
      "3       Profesional            Cadre               0                1   \n",
      "4       Profesional            Cadre               1                4   \n",
      "\n",
      "          AddressLine1 AddressLine2                Phone DateFirstPurchase  \\\n",
      "0      3761 N. 14th St         None  1 (11) 500 555-0162        2011-01-19   \n",
      "1           2243 W St.         None  1 (11) 500 555-0110        2011-01-15   \n",
      "2     5844 Linden Land         None  1 (11) 500 555-0184        2011-01-07   \n",
      "3     1825 Village Pl.         None  1 (11) 500 555-0162        2010-12-29   \n",
      "4  7553 Harness Circle         None  1 (11) 500 555-0131        2011-01-23   \n",
      "\n",
      "  CommuteDistance  \n",
      "0       1-2 Miles  \n",
      "1       0-1 Miles  \n",
      "2       2-5 Miles  \n",
      "3      5-10 Miles  \n",
      "4       1-2 Miles  \n",
      "\n",
      "[5 rows x 29 columns]\n"
     ]
    }
   ],
   "source": [
    "dimcustomer['FirstName'] = dimcustomer['FirstName'].str.lower()\n",
    "dimcustomer['MiddleName'] = dimcustomer['MiddleName'].str.lower()\n",
    "\n",
    "print(dimcustomer.head(5))"
   ]
  },
  {
   "cell_type": "code",
   "execution_count": 11,
   "id": "a85fb5bb-3271-47c3-b36d-d005b4383771",
   "metadata": {},
   "outputs": [
    {
     "name": "stdout",
     "output_type": "stream",
     "text": [
      "   CustomerKey  GeographyKey CustomerAlternateKey Title  FirstName MiddleName  \\\n",
      "0        11000            26           AW00011000  None        jon          v   \n",
      "1        11001            37           AW00011001  None     eugene          l   \n",
      "2        11002            31           AW00011002  None      ruben       None   \n",
      "3        11003            11           AW00011003  None    christy       None   \n",
      "4        11004            19           AW00011004  None  elizabeth       None   \n",
      "\n",
      "  LastName  NameStyle   BirthDate MaritalStatus  ... EnglishOccupation  \\\n",
      "0     YANG          0  1971-10-06             M  ...      Professional   \n",
      "1    HUANG          0  1976-05-10             S  ...      Professional   \n",
      "2   TORRES          0  1971-02-09             M  ...      Professional   \n",
      "3      ZHU          0  1973-08-14             S  ...      Professional   \n",
      "4  JOHNSON          0  1979-08-05             S  ...      Professional   \n",
      "\n",
      "  SpanishOccupation FrenchOccupation  HouseOwnerFlag  NumberCarsOwned  \\\n",
      "0       Profesional            Cadre               1                0   \n",
      "1       Profesional            Cadre               0                1   \n",
      "2       Profesional            Cadre               1                1   \n",
      "3       Profesional            Cadre               0                1   \n",
      "4       Profesional            Cadre               1                4   \n",
      "\n",
      "          AddressLine1 AddressLine2                Phone DateFirstPurchase  \\\n",
      "0      3761 N. 14th St         None  1 (11) 500 555-0162        2011-01-19   \n",
      "1           2243 W St.         None  1 (11) 500 555-0110        2011-01-15   \n",
      "2     5844 Linden Land         None  1 (11) 500 555-0184        2011-01-07   \n",
      "3     1825 Village Pl.         None  1 (11) 500 555-0162        2010-12-29   \n",
      "4  7553 Harness Circle         None  1 (11) 500 555-0131        2011-01-23   \n",
      "\n",
      "  CommuteDistance  \n",
      "0       1-2 Miles  \n",
      "1       0-1 Miles  \n",
      "2       2-5 Miles  \n",
      "3      5-10 Miles  \n",
      "4       1-2 Miles  \n",
      "\n",
      "[5 rows x 29 columns]\n"
     ]
    }
   ],
   "source": [
    "# Trasformiamo i cognomi dei clienti in lettere maiuscole nella colonna 'LastName'\n",
    "dimcustomer['LastName'] = dimcustomer['LastName'].str.upper()\n",
    "print(dimcustomer.head(5))"
   ]
  },
  {
   "cell_type": "code",
   "execution_count": 12,
   "id": "303bfb8d-5f60-4d65-8bf9-898587996e4a",
   "metadata": {},
   "outputs": [
    {
     "name": "stdout",
     "output_type": "stream",
     "text": [
      "                     EmailAddress    Username               Domain\n",
      "0       jon24@adventure-works.com       jon24  adventure-works.com\n",
      "1    eugene10@adventure-works.com    eugene10  adventure-works.com\n",
      "2     ruben35@adventure-works.com     ruben35  adventure-works.com\n",
      "3   christy12@adventure-works.com   christy12  adventure-works.com\n",
      "4  elizabeth5@adventure-works.com  elizabeth5  adventure-works.com\n"
     ]
    }
   ],
   "source": [
    "# Utilizziamo il metodo .str.split() per suddividere l'indirizzo email in nome utente e dominio\n",
    "dimcustomer[['Username', 'Domain']] = dimcustomer['EmailAddress'].str.split('@', n=1, expand=True)\n",
    "print(dimcustomer[['EmailAddress', 'Username', 'Domain']].head(5))"
   ]
  },
  {
   "cell_type": "code",
   "execution_count": 13,
   "id": "07754e67-1da1-4cb1-885a-67cc247e1b1a",
   "metadata": {},
   "outputs": [
    {
     "name": "stdout",
     "output_type": "stream",
     "text": [
      "                 Phone          Phone_Parts\n",
      "0  1 (11) 500 555-0162  1 (11) 500 555 0162\n",
      "1  1 (11) 500 555-0110  1 (11) 500 555 0110\n",
      "2  1 (11) 500 555-0184  1 (11) 500 555 0184\n",
      "3  1 (11) 500 555-0162  1 (11) 500 555 0162\n",
      "4  1 (11) 500 555-0131  1 (11) 500 555 0131\n"
     ]
    }
   ],
   "source": [
    "#estraiamo ogni parte del numero nella colonna Phone\n",
    "dimcustomer['Phone_Parts'] = dimcustomer['Phone'].str.extractall(r'(\\d+|\\(\\d+\\)|\\d+-\\d+)').groupby(level=0).agg(' '.join)\n",
    "print(dimcustomer[['Phone', 'Phone_Parts']].head(5))"
   ]
  },
  {
   "cell_type": "code",
   "execution_count": 14,
   "id": "bf5c5cd9-f8b7-4f87-914d-4ef133a0824e",
   "metadata": {},
   "outputs": [
    {
     "name": "stdout",
     "output_type": "stream",
     "text": [
      "                       EmailAddress\n",
      "64      chase21@adventure-works.com\n",
      "118     alvin21@adventure-works.com\n",
      "130  caroline21@adventure-works.com\n",
      "163   gabriel21@adventure-works.com\n",
      "203      luis21@adventure-works.com\n"
     ]
    }
   ],
   "source": [
    "# Utilizziamo il metodo .str.contains() per filtrare gli indirizzi email che contengono il numero \"21\"\n",
    "email_containing_21 = dimcustomer[dimcustomer['EmailAddress'].str.contains('21')]\n",
    "print(email_containing_21[['EmailAddress']].head(5))"
   ]
  },
  {
   "cell_type": "code",
   "execution_count": 15,
   "id": "f8357363-95a3-442d-b043-5534b74a358b",
   "metadata": {},
   "outputs": [
    {
     "name": "stdout",
     "output_type": "stream",
     "text": [
      "                       EmailAddress\n",
      "1      eugene10@adventure-works.com\n",
      "10  jacquelyn20@adventure-works.com\n",
      "22      ethan20@adventure-works.com\n",
      "30    bethany10@adventure-works.com\n",
      "32     denise10@adventure-works.com\n"
     ]
    }
   ],
   "source": [
    "# Utilizziamo il metodo .str.contains() per filtrare gli indirizzi email che contengono il numero \"20\" o il numero \"10\"\n",
    "email_containing_20_or_10 = dimcustomer[dimcustomer['EmailAddress'].str.contains('20|10')]\n",
    "print(email_containing_20_or_10[['EmailAddress']].head(5))"
   ]
  },
  {
   "cell_type": "code",
   "execution_count": 16,
   "id": "a079d472-bec5-4058-a176-33cec201f3e6",
   "metadata": {},
   "outputs": [
    {
     "name": "stdout",
     "output_type": "stream",
     "text": [
      "Dieci indirizzi email più lunghi:\n",
      "                            EmailAddress  Email_Length\n",
      "4772   christopher10@adventure-works.com            33\n",
      "9242   christopher11@adventure-works.com            33\n",
      "1767   christopher18@adventure-works.com            33\n",
      "16808  christopher19@adventure-works.com            33\n",
      "8768   christopher12@adventure-works.com            33\n",
      "3512   christopher27@adventure-works.com            33\n",
      "4973   christopher16@adventure-works.com            33\n",
      "13417  christopher14@adventure-works.com            33\n",
      "2655   christopher23@adventure-works.com            33\n",
      "16661  christopher17@adventure-works.com            33\n",
      "\n",
      "Dieci indirizzi email più corti:\n",
      "                   EmailAddress  Email_Length\n",
      "3974     k0@adventure-works.com            22\n",
      "15299    y0@adventure-works.com            22\n",
      "1658   joy2@adventure-works.com            24\n",
      "550    deb4@adventure-works.com            24\n",
      "13888  roy9@adventure-works.com            24\n",
      "6264   ian1@adventure-works.com            24\n",
      "2326   bob8@adventure-works.com            24\n",
      "13825  zoe3@adventure-works.com            24\n",
      "215    ana7@adventure-works.com            24\n",
      "11213  jay9@adventure-works.com            24\n"
     ]
    }
   ],
   "source": [
    "# Calcola la lunghezza di ciascun indirizzo email\n",
    "dimcustomer['Email_Length'] = dimcustomer['EmailAddress'].str.len()\n",
    "\n",
    "# Ordina gli indirizzi email in base alla loro lunghezza\n",
    "sorted_emails = dimcustomer.sort_values(by='Email_Length')\n",
    "\n",
    "# Estrai i dieci più lunghi e i dieci più corti\n",
    "top_10_longest_emails = sorted_emails.tail(10)\n",
    "top_10_shortest_emails = sorted_emails.head(10)\n",
    "\n",
    "#risultati\n",
    "print(\"Dieci indirizzi email più lunghi:\")\n",
    "print(top_10_longest_emails[['EmailAddress', 'Email_Length']])\n",
    "print(\"\\nDieci indirizzi email più corti:\")\n",
    "print(top_10_shortest_emails[['EmailAddress', 'Email_Length']])"
   ]
  },
  {
   "cell_type": "code",
   "execution_count": 17,
   "id": "5f336631-0c69-4c77-9f1d-4e65d2b6c1a8",
   "metadata": {
    "collapsed": true,
    "jupyter": {
     "outputs_hidden": true
    }
   },
   "outputs": [
    {
     "name": "stdout",
     "output_type": "stream",
     "text": [
      "           EmailAddress\n",
      "0       jon24@aw-db.com\n",
      "1    eugene10@aw-db.com\n",
      "2     ruben35@aw-db.com\n",
      "3   christy12@aw-db.com\n",
      "4  elizabeth5@aw-db.com\n"
     ]
    }
   ],
   "source": [
    "# Modifica il dominio degli indirizzi email utilizzando il metodo .str.replace()\n",
    "dimcustomer['EmailAddress'] = dimcustomer['EmailAddress'].str.replace('adventure-works.com', 'aw-db.com')\n",
    "print(dimcustomer[['EmailAddress']].head())"
   ]
  },
  {
   "cell_type": "code",
   "execution_count": 18,
   "id": "3943b837-c041-42ab-8aa4-21d6e9b6f66d",
   "metadata": {},
   "outputs": [
    {
     "name": "stdout",
     "output_type": "stream",
     "text": [
      "           AddressLine1\n",
      "7      942 Brook Street\n",
      "12    4785 Scott Street\n",
      "32   626 Bentley Street\n",
      "63   4927 Virgil Street\n",
      "125  8481 Zartop Street\n"
     ]
    }
   ],
   "source": [
    "# Seleziona gli indirizzi che contengono la sottostringa \"Street\"\n",
    "street_addresses = dimcustomer[dimcustomer['AddressLine1'].str.contains('Street', case=False)]\n",
    "print(street_addresses[['AddressLine1']].head(5))"
   ]
  },
  {
   "cell_type": "code",
   "execution_count": null,
   "id": "a560659c-907e-4fd0-aafb-2faec8161bd1",
   "metadata": {},
   "outputs": [],
   "source": []
  }
 ],
 "metadata": {
  "kernelspec": {
   "display_name": "Python 3 (ipykernel)",
   "language": "python",
   "name": "python3"
  },
  "language_info": {
   "codemirror_mode": {
    "name": "ipython",
    "version": 3
   },
   "file_extension": ".py",
   "mimetype": "text/x-python",
   "name": "python",
   "nbconvert_exporter": "python",
   "pygments_lexer": "ipython3",
   "version": "3.11.7"
  }
 },
 "nbformat": 4,
 "nbformat_minor": 5
}
